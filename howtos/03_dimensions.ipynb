{
 "cells": [
  {
   "cell_type": "markdown",
   "id": "4f58f05d",
   "metadata": {},
   "source": [
    "# Dimensions and DimensionSets\n",
    "\n",
    "## Dimensions\n",
    "\n",
    "[Dimension](api.dimensions.html#flodym.Dimension) objects are what flodym datasets are differentiated by.\n",
    "\n",
    "They are defined by a name, index letter, and their items.\n",
    "The index letters must have length one, i.e. only be one letter.\n",
    "\n",
    "Optionally, a data type can be given. If doing so, it is ensured that all items have this data type.\n",
    "When loading items from file, it can be useful to check that for example years are integers and not converted to strings."
   ]
  },
  {
   "cell_type": "code",
   "execution_count": 1,
   "id": "cabf3af1",
   "metadata": {},
   "outputs": [],
   "source": [
    "from flodym import Dimension\n",
    "\n",
    "regions = Dimension(name=\"Region\", letter=\"r\", items=[\"EU\", \"US\", \"MEX\"])"
   ]
  },
  {
   "cell_type": "markdown",
   "id": "36130be6",
   "metadata": {},
   "source": [
    "\n",
    "Never give Dimension objects with different item sets the same name or letter, even though it is tempting!"
   ]
  },
  {
   "cell_type": "code",
   "execution_count": 2,
   "id": "56141793",
   "metadata": {},
   "outputs": [],
   "source": [
    "# historic and future time\n",
    "time = Dimension(name=\"Time\", letter=\"t\", items=[\"2010\", \"2020\", \"2030\"])\n",
    "# Historic time - a subset of time\n",
    "\n",
    "# WRONG! (same letter t)\n",
    "historic_time = Dimension(name=\"Historic Time\", letter=\"t\", items=[\"2010\", \"2020\"])\n",
    "\n",
    "# Correct\n",
    "historic_time = Dimension(name=\"Historic Time\", letter=\"h\", items=[\"2010\", \"2020\"])"
   ]
  },
  {
   "cell_type": "markdown",
   "id": "ab42a8f8",
   "metadata": {},
   "source": [
    "## DimensionSets\n",
    "\n",
    "Multiple dimensions are grouped in a DimensionSet object:"
   ]
  },
  {
   "cell_type": "code",
   "execution_count": 3,
   "id": "40e2a7bc",
   "metadata": {},
   "outputs": [],
   "source": [
    "from flodym import DimensionSet\n",
    "\n",
    "dims = DimensionSet(\n",
    "    dim_list=[\n",
    "        Dimension(name=\"Region\", letter=\"r\", items=[\"EU\", \"US\", \"MEX\"]),\n",
    "        Dimension(name=\"Product\", letter=\"p\", items=[\"A\", \"B\"]),\n",
    "        Dimension(name=\"Time\", letter=\"t\", items=[2020]),\n",
    "    ]\n",
    ")"
   ]
  },
  {
   "cell_type": "markdown",
   "id": "8510c2c7",
   "metadata": {},
   "source": [
    "The MFASystem class has a dims attribute, which is a DimensionSet object containing all dimensions ever used in the system.\n",
    "\n",
    "Each FlodymArray object also has a dims attribute, with a subset of dimensions that this array is defined over.\n",
    "\n",
    "Subsets and single dimensions can be extracted by indexing. A single index in square brackets returns a `Dimension`.\n",
    "Several indexes in the square brackets, or a tuple (even with a single item inside), return a `DimensionSet`."
   ]
  },
  {
   "cell_type": "code",
   "execution_count": 4,
   "id": "b023bfff",
   "metadata": {},
   "outputs": [
    {
     "name": "stdout",
     "output_type": "stream",
     "text": [
      "Item by letter | type: <class 'flodym.dimensions.Dimension'>, name: Region\n",
      "Item by name | type: <class 'flodym.dimensions.Dimension'>, name: Region\n",
      "Subset | type: <class 'flodym.dimensions.DimensionSet'>, names: ('Region', 'Product')\n",
      "Size 1 subset | type: <class 'flodym.dimensions.DimensionSet'>, names: ('Region',)\n"
     ]
    }
   ],
   "source": [
    "item_by_letter = dims[\"r\"]\n",
    "print(f\"Item by letter | type: {type(item_by_letter)}, name: {item_by_letter.name}\")\n",
    "\n",
    "item_by_name = dims[\"Region\"]\n",
    "print(f\"Item by name | type: {type(item_by_name)}, name: {item_by_name.name}\")\n",
    "\n",
    "subset = dims[\"r\", \"p\"]\n",
    "print(f\"Subset | type: {type(subset)}, names: {subset.names}\")\n",
    "\n",
    "subset_size_1_tuple = dims[(\"r\",)]\n",
    "print(f\"Size 1 subset | type: {type(subset_size_1_tuple)}, names: {subset_size_1_tuple.names}\")"
   ]
  },
  {
   "cell_type": "markdown",
   "id": "94b62b35",
   "metadata": {},
   "source": [
    "DimensionSet objects have several attributes (like `names` or `letters`) and a range of methods to modify or combine them.\n",
    "For a full list and documentation, refer to the API Reference."
   ]
  }
 ],
 "metadata": {
  "jupytext": {
   "cell_metadata_filter": "-all",
   "main_language": "python",
   "notebook_metadata_filter": "-all"
  },
  "kernelspec": {
   "display_name": "flodym",
   "language": "python",
   "name": "python3"
  },
  "language_info": {
   "codemirror_mode": {
    "name": "ipython",
    "version": 3
   },
   "file_extension": ".py",
   "mimetype": "text/x-python",
   "name": "python",
   "nbconvert_exporter": "python",
   "pygments_lexer": "ipython3",
   "version": "3.10.10"
  }
 },
 "nbformat": 4,
 "nbformat_minor": 5
}
